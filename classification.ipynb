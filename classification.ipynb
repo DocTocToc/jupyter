{
 "cells": [
  {
   "cell_type": "markdown",
   "metadata": {},
   "source": [
    "## Classify status\n",
    "\n",
    "### Clinical\n",
    "\n",
    "#### diagnosis\n",
    "Question related to diagnosis.\n",
    " * clinical description asking for diagnosis\n",
    " * question pertaining to best diagnostic tests to confirm given differential\n",
    "\n",
    "#### therapy\n",
    "Determination of appropriate therapy for a problem already diagnosed.\n",
    "\n",
    "### Non clinical\n",
    "\n",
    "#### practical advice"
   ]
  },
  {
   "cell_type": "markdown",
   "metadata": {},
   "source": []
  }
 ],
 "metadata": {
  "kernelspec": {
   "display_name": "Python 3",
   "language": "python",
   "name": "python3"
  },
  "language_info": {
   "codemirror_mode": {
    "name": "ipython",
    "version": 3
   },
   "file_extension": ".py",
   "mimetype": "text/x-python",
   "name": "python",
   "nbconvert_exporter": "python",
   "pygments_lexer": "ipython3",
   "version": "3.6.4"
  }
 },
 "nbformat": 4,
 "nbformat_minor": 2
}
