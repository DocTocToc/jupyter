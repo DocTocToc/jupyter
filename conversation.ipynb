{
 "cells": [
  {
   "cell_type": "markdown",
   "metadata": {},
   "source": [
    "## get conversation tree from question\n",
    "Standard (free of charge) Twitter API doesn't allow to get all responses to a specific status. Method to route around this limitation:\n",
    "1. Use [TweetScraper](https://github.com/jonbakerfish/TweetScraper)\n",
    "2. Search all replies to the user who posted the question status after a certain date and time\n",
    "3. filter those answers with \"in_reply_to\n",
    "\n",
    "Original tweet is 1st doc(s)toctoc tweet posted on 2012-06-06: https://twitter.com/DrKoibo/status/210290960695959553\n",
    "Request is \"to:DrKoibo since:2012-06-06\"\n",
    "```\n",
    "# using pipenv\n",
    "pipenv run scrapy crawl TweetScraper -a query=\"to:DrKoibo since:2012-06-06\"\n",
    "```\n",
    "returns 8111 status (as of 2018-03-29)"
   ]
  },
  {
   "cell_type": "code",
   "execution_count": null,
   "metadata": {},
   "outputs": [],
   "source": []
  }
 ],
 "metadata": {
  "kernelspec": {
   "display_name": "Python 3",
   "language": "python",
   "name": "python3"
  },
  "language_info": {
   "codemirror_mode": {
    "name": "ipython",
    "version": 3
   },
   "file_extension": ".py",
   "mimetype": "text/x-python",
   "name": "python",
   "nbconvert_exporter": "python",
   "pygments_lexer": "ipython3",
   "version": "3.6.4"
  }
 },
 "nbformat": 4,
 "nbformat_minor": 2
}
